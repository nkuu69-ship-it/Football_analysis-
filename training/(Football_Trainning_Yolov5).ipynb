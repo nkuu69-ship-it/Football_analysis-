{
  "nbformat": 4,
  "nbformat_minor": 0,
  "metadata": {
    "colab": {
      "provenance": [],
      "gpuType": "T4"
    },
    "kernelspec": {
      "name": "python3",
      "display_name": "Python 3"
    },
    "language_info": {
      "name": "python"
    },
    "accelerator": "GPU"
  },
  "cells": [
    {
      "cell_type": "code",
      "execution_count": null,
      "metadata": {
        "id": "y_iEx1wig80c"
      },
      "outputs": [],
      "source": [
        "!pip install ultralytics\n",
        "from ultralytics import YOLO\n"
      ]
    },
    {
      "cell_type": "markdown",
      "source": [
        "##GET DATASET"
      ],
      "metadata": {
        "id": "RKVptvDQhSkC"
      }
    },
    {
      "cell_type": "code",
      "source": [
        "!pip install roboflow\n",
        "\n",
        "from roboflow import Roboflow\n",
        "rf = Roboflow(api_key=\"M3If9EQPAFc7wUeAqKW3\")\n",
        "project = rf.workspace(\"mlprojspace\").project(\"footballplayerdetection-j2nze\")\n",
        "version = project.version(1)\n",
        "dataset = version.download(\"yolov5\")\n",
        "\n"
      ],
      "metadata": {
        "id": "J1Dbj1bJhYMx"
      },
      "execution_count": null,
      "outputs": []
    },
    {
      "cell_type": "code",
      "source": [
        "dataset.location"
      ],
      "metadata": {
        "id": "91rVpbbcmetE"
      },
      "execution_count": null,
      "outputs": []
    },
    {
      "cell_type": "code",
      "source": [
        "# Check GPU availability\n",
        "import torch\n",
        "assert torch.cuda.is_available(), \"❌ GPU not available. Please enable GPU runtime (Colab: Runtime → Change runtime type → GPU)\"\n",
        "print(\"✅ GPU:\", torch.cuda.get_device_name(0))\n"
      ],
      "metadata": {
        "id": "YWaMSHKF8pNG"
      },
      "execution_count": null,
      "outputs": []
    },
    {
      "cell_type": "markdown",
      "source": [
        "# Training"
      ],
      "metadata": {
        "id": "Zd81ugwLmzh0"
      }
    },
    {
      "cell_type": "code",
      "metadata": {
        "id": "5ddb12fb"
      },
      "source": [
        "import yaml\n",
        "\n",
        "data_yaml_path = '/content/FootballPlayerDetection-1/data.yaml'\n",
        "\n",
        "with open(data_yaml_path, 'r') as f:\n",
        "    data = yaml.safe_load(f)\n",
        "\n",
        "# Assuming the images and labels are directly under the dataset directory\n",
        "data['train'] = '../train/images'\n",
        "data['val'] = '../valid/images'\n",
        "data['test'] = '../test/images'\n",
        "\n",
        "with open(data_yaml_path, 'w') as f:\n",
        "    yaml.dump(data, f)\n",
        "\n",
        "print(f\"Updated {data_yaml_path}\")"
      ],
      "execution_count": null,
      "outputs": []
    },
    {
      "cell_type": "code",
      "source": [
        "!yolo task=detect mode=train model=yolov5x.pt data=/content/FootballPlayerDetection-1/data.yaml epochs=100 imgsz=640"
      ],
      "metadata": {
        "id": "e92oF6QgDql4"
      },
      "execution_count": null,
      "outputs": []
    }
  ]
}